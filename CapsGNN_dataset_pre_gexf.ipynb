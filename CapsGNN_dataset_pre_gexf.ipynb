{
  "nbformat": 4,
  "nbformat_minor": 0,
  "metadata": {
    "colab": {
      "name": "CapsGNN_dataset_pre.ipynb",
      "provenance": [],
      "collapsed_sections": []
    },
    "kernelspec": {
      "name": "python3",
      "display_name": "Python 3"
    },
    "language_info": {
      "name": "python"
    }
  },
  "cells": [
    {
      "cell_type": "code",
      "metadata": {
        "id": "cjf63iAxariH",
        "colab": {
          "base_uri": "https://localhost:8080/"
        },
        "outputId": "b17571c9-2fab-440b-9ae4-041fde0726b8"
      },
      "source": [
        "import numpy as np\n",
        "import tensorflow as tf\n",
        "from numpy import asarray\n",
        "from keras.models import Sequential\n",
        "from keras.layers import Conv1D, Conv2D, Conv3D\n",
        "from tensorflow.keras.preprocessing.image import ImageDataGenerator, img_to_array, load_img\n",
        "import keras\n",
        "from keras import Input, layers\n",
        "from keras.models import Model\n",
        "import keras.backend as K\n",
        "import PIL\n",
        "from PIL import Image\n",
        "from numpy import asarray\n",
        "import urllib.request\n",
        "%pylab inline\n",
        "import matplotlib.pyplot as plt\n",
        "import matplotlib.image as mpimg\n",
        "import requests\n",
        "from io import BytesIO\n",
        "from keras.preprocessing import image\n",
        "from tensorflow.python.ops.numpy_ops import np_config\n",
        "import cv2\n",
        "import networkx as nx\n",
        "import json\n",
        "from networkx.generators.small import krackhardt_kite_graph \n",
        "from string import ascii_lowercase \n",
        "import io\n",
        "import base64\n",
        "from skimage.io import imread\n",
        "import os"
      ],
      "execution_count": 89,
      "outputs": [
        {
          "output_type": "stream",
          "name": "stdout",
          "text": [
            "Populating the interactive namespace from numpy and matplotlib\n"
          ]
        },
        {
          "output_type": "stream",
          "name": "stderr",
          "text": [
            "/usr/local/lib/python3.7/dist-packages/IPython/core/magics/pylab.py:161: UserWarning: pylab import has clobbered these variables: ['imread']\n",
            "`%matplotlib` prevents importing * from pylab and numpy\n",
            "  \"\\n`%matplotlib` prevents importing * from pylab and numpy\"\n"
          ]
        }
      ]
    },
    {
      "cell_type": "code",
      "source": [
        "from google.colab import drive\n",
        "drive.mount('/content/drive')"
      ],
      "metadata": {
        "colab": {
          "base_uri": "https://localhost:8080/"
        },
        "id": "xtxg0zbBkn6M",
        "outputId": "a4627798-93c4-44e2-fe48-4adee79f1c9a"
      },
      "execution_count": 76,
      "outputs": [
        {
          "output_type": "stream",
          "name": "stdout",
          "text": [
            "Drive already mounted at /content/drive; to attempt to forcibly remount, call drive.mount(\"/content/drive\", force_remount=True).\n"
          ]
        }
      ]
    },
    {
      "cell_type": "code",
      "source": [
        "def load_images_from_folder(folder):\n",
        "    images = []\n",
        "    for filename in os.listdir(folder):\n",
        "        img = cv2.imread(os.path.join(folder,filename))\n",
        "        if img is not None:\n",
        "            images.append(img)\n",
        "    return images"
      ],
      "metadata": {
        "id": "bMfd3dduwOqI"
      },
      "execution_count": 110,
      "outputs": []
    },
    {
      "cell_type": "code",
      "source": [
        "all_imgs = load_images_from_folder('/content/drive/MyDrive/ct_covid')"
      ],
      "metadata": {
        "id": "-Lgf9YPzwXCA"
      },
      "execution_count": 113,
      "outputs": []
    },
    {
      "cell_type": "code",
      "metadata": {
        "id": "7DcLD0JxzvPQ"
      },
      "source": [
        "def tensor_to_image(tensor):\n",
        "    tensor = tensor*255\n",
        "    tensor = np.array(tensor, dtype=np.uint8)\n",
        "    if np.ndim(tensor)>3:\n",
        "        assert tensor.shape[0] == 1\n",
        "        tensor = tensor[0]\n",
        "    return PIL.Image.fromarray(tensor)"
      ],
      "execution_count": 79,
      "outputs": []
    },
    {
      "cell_type": "code",
      "source": [
        "e = 0\n",
        "for i in all_imgs:\n",
        "  x = tf.convert_to_tensor(i, dtype=tf.float32)\n",
        "  x /= 255\n",
        "  dim = x.shape\n",
        "  x = x.reshape(dim[0], dim[1], dim[2], 1)\n",
        "  #print(x.shape)\n",
        "  #print(x)\n",
        "  x = np.array(x)\n",
        "  kernel_1 = np.array([\n",
        "            [[[0]], [[-1]], [[0]]],\n",
        "            [[[-1]], [[5]], [[-1]]],\n",
        "            [[[0]], [[-1]], [[0]]]\n",
        "        ])\n",
        "  x = tf.constant(x, dtype=tf.float32)\n",
        "  kernel = tf.constant(kernel_1, dtype=tf.float32)\n",
        "  out_1 = tf.nn.conv2d(x, kernel, strides=[2], padding='VALID')\n",
        "  out_1 = tf.squeeze(out_1)\n",
        "  out_1 = out_1.numpy()\n",
        "  tensor_to_image(out_1)\n",
        "  am = (np.dot(out_1, out_1.T) > 0).astype(int)\n",
        "  D = nx.DiGraph(am)\n",
        "  nodes = list(D.nodes)\n",
        "  edges = list(D.edges)\n",
        "  G = nx.Graph()\n",
        "  G.add_nodes_from(nodes)\n",
        "  G.add_edges_from(edges)\n",
        "  e = e + 1\n",
        "  nx.write_gexf(G, \"%s.gexf\" %e)"
      ],
      "metadata": {
        "id": "FrGaH_k3yVyE"
      },
      "execution_count": 126,
      "outputs": []
    }
  ]
}
